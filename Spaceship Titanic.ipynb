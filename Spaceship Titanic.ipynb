{
 "cells": [
  {
   "cell_type": "code",
   "execution_count": 12,
   "id": "36d8aa3f",
   "metadata": {},
   "outputs": [],
   "source": [
    "import pandas as pd\n",
    "import numpy as np\n",
    "import matplotlib.pyplot as plt\n",
    "from sklearn.preprocessing import StandardScaler\n"
   ]
  },
  {
   "cell_type": "code",
   "execution_count": 13,
   "id": "981e26c0",
   "metadata": {},
   "outputs": [
    {
     "name": "stdout",
     "output_type": "stream",
     "text": [
      "(8693, 14)\n",
      "  PassengerId HomePlanet CryoSleep  Cabin  Destination   Age    VIP  \\\n",
      "0     0001_01     Europa     False  B/0/P  TRAPPIST-1e  39.0  False   \n",
      "1     0002_01      Earth     False  F/0/S  TRAPPIST-1e  24.0  False   \n",
      "2     0003_01     Europa     False  A/0/S  TRAPPIST-1e  58.0   True   \n",
      "3     0003_02     Europa     False  A/0/S  TRAPPIST-1e  33.0  False   \n",
      "4     0004_01      Earth     False  F/1/S  TRAPPIST-1e  16.0  False   \n",
      "\n",
      "   RoomService  FoodCourt  ShoppingMall     Spa  VRDeck               Name  \\\n",
      "0          0.0        0.0           0.0     0.0     0.0    Maham Ofracculy   \n",
      "1        109.0        9.0          25.0   549.0    44.0       Juanna Vines   \n",
      "2         43.0     3576.0           0.0  6715.0    49.0      Altark Susent   \n",
      "3          0.0     1283.0         371.0  3329.0   193.0       Solam Susent   \n",
      "4        303.0       70.0         151.0   565.0     2.0  Willy Santantines   \n",
      "\n",
      "   Transported  \n",
      "0        False  \n",
      "1         True  \n",
      "2        False  \n",
      "3        False  \n",
      "4         True  \n"
     ]
    }
   ],
   "source": [
    "df = pd.read_csv('train.csv')\n",
    "print(df.shape)\n",
    "print(df.head())\n"
   ]
  },
  {
   "cell_type": "code",
   "execution_count": 14,
   "id": "2efa162d",
   "metadata": {},
   "outputs": [
    {
     "name": "stdout",
     "output_type": "stream",
     "text": [
      "               Age   RoomService     FoodCourt  ShoppingMall           Spa  \\\n",
      "count  8514.000000   8512.000000   8510.000000   8485.000000   8510.000000   \n",
      "mean     28.827930    224.687617    458.077203    173.729169    311.138778   \n",
      "std      14.489021    666.717663   1611.489240    604.696458   1136.705535   \n",
      "min       0.000000      0.000000      0.000000      0.000000      0.000000   \n",
      "25%      19.000000      0.000000      0.000000      0.000000      0.000000   \n",
      "50%      27.000000      0.000000      0.000000      0.000000      0.000000   \n",
      "75%      38.000000     47.000000     76.000000     27.000000     59.000000   \n",
      "max      79.000000  14327.000000  29813.000000  23492.000000  22408.000000   \n",
      "\n",
      "             VRDeck  \n",
      "count   8505.000000  \n",
      "mean     304.854791  \n",
      "std     1145.717189  \n",
      "min        0.000000  \n",
      "25%        0.000000  \n",
      "50%        0.000000  \n",
      "75%       46.000000  \n",
      "max    24133.000000  \n"
     ]
    }
   ],
   "source": [
    "print(df.describe())"
   ]
  },
  {
   "cell_type": "code",
   "execution_count": 15,
   "id": "5eafd875",
   "metadata": {},
   "outputs": [
    {
     "data": {
      "text/plain": [
       "PassengerId       0\n",
       "HomePlanet      201\n",
       "CryoSleep       217\n",
       "Cabin           199\n",
       "Destination     182\n",
       "Age             179\n",
       "VIP             203\n",
       "RoomService     181\n",
       "FoodCourt       183\n",
       "ShoppingMall    208\n",
       "Spa             183\n",
       "VRDeck          188\n",
       "Name            200\n",
       "Transported       0\n",
       "dtype: int64"
      ]
     },
     "execution_count": 15,
     "metadata": {},
     "output_type": "execute_result"
    }
   ],
   "source": [
    "df.isnull().sum()\n"
   ]
  },
  {
   "cell_type": "code",
   "execution_count": 16,
   "id": "c21c4bd6",
   "metadata": {},
   "outputs": [
    {
     "name": "stdout",
     "output_type": "stream",
     "text": [
      "bool\n"
     ]
    }
   ],
   "source": [
    "print(df['Transported'].dtype)"
   ]
  },
  {
   "cell_type": "code",
   "execution_count": 17,
   "id": "a5d6df48",
   "metadata": {},
   "outputs": [
    {
     "name": "stdout",
     "output_type": "stream",
     "text": [
      "CryoSleep                    0\n",
      "Age                          0\n",
      "VIP                          0\n",
      "RoomService                  0\n",
      "FoodCourt                    0\n",
      "ShoppingMall                 0\n",
      "Spa                          0\n",
      "VRDeck                       0\n",
      "Transported                  0\n",
      "CabinNum                     0\n",
      "HomePlanet_Europa            0\n",
      "HomePlanet_Mars              0\n",
      "Destination_PSO J318.5-22    0\n",
      "Destination_TRAPPIST-1e      0\n",
      "Deck_B                       0\n",
      "Deck_C                       0\n",
      "Deck_D                       0\n",
      "Deck_E                       0\n",
      "Deck_F                       0\n",
      "Deck_G                       0\n",
      "Deck_T                       0\n",
      "Side_S                       0\n",
      "dtype: int64\n",
      "(8668, 22)\n",
      "   CryoSleep       Age    VIP  RoomService  FoodCourt  ShoppingMall       Spa  \\\n",
      "0      False  0.711945  False    -0.333105  -0.281027     -0.283579 -0.270626   \n",
      "1      False -0.334037  False    -0.168073  -0.275387     -0.241771  0.217158   \n",
      "2      False  2.036857   True    -0.268001   1.959998     -0.283579  5.695623   \n",
      "3      False  0.293552  False    -0.333105   0.523010      0.336851  2.687176   \n",
      "4      False -0.891895  False     0.125652  -0.237159     -0.031059  0.231374   \n",
      "\n",
      "     VRDeck  Transported CabinNum  ...  Destination_PSO J318.5-22  \\\n",
      "0 -0.263003        False        0  ...                      False   \n",
      "1 -0.224205         True        0  ...                      False   \n",
      "2 -0.219796        False        0  ...                      False   \n",
      "3 -0.092818        False        0  ...                      False   \n",
      "4 -0.261240         True        1  ...                      False   \n",
      "\n",
      "   Destination_TRAPPIST-1e  Deck_B  Deck_C  Deck_D  Deck_E  Deck_F  Deck_G  \\\n",
      "0                     True    True   False   False   False   False   False   \n",
      "1                     True   False   False   False   False    True   False   \n",
      "2                     True   False   False   False   False   False   False   \n",
      "3                     True   False   False   False   False   False   False   \n",
      "4                     True   False   False   False   False    True   False   \n",
      "\n",
      "   Deck_T  Side_S  \n",
      "0   False   False  \n",
      "1   False    True  \n",
      "2   False    True  \n",
      "3   False    True  \n",
      "4   False    True  \n",
      "\n",
      "[5 rows x 22 columns]\n"
     ]
    },
    {
     "name": "stderr",
     "output_type": "stream",
     "text": [
      "/var/folders/8g/5r_8r4g979d_w41qn9g9mkhc0000gn/T/ipykernel_53443/2191845183.py:8: FutureWarning: A value is trying to be set on a copy of a DataFrame or Series through chained assignment using an inplace method.\n",
      "The behavior will change in pandas 3.0. This inplace method will never work because the intermediate object on which we are setting values always behaves as a copy.\n",
      "\n",
      "For example, when doing 'df[col].method(value, inplace=True)', try using 'df.method({col: value}, inplace=True)' or df[col] = df[col].method(value) instead, to perform the operation inplace on the original object.\n",
      "\n",
      "\n",
      "  df_clean[col].fillna(df_clean[col].median(), inplace=True)\n",
      "/var/folders/8g/5r_8r4g979d_w41qn9g9mkhc0000gn/T/ipykernel_53443/2191845183.py:8: FutureWarning: A value is trying to be set on a copy of a DataFrame or Series through chained assignment using an inplace method.\n",
      "The behavior will change in pandas 3.0. This inplace method will never work because the intermediate object on which we are setting values always behaves as a copy.\n",
      "\n",
      "For example, when doing 'df[col].method(value, inplace=True)', try using 'df.method({col: value}, inplace=True)' or df[col] = df[col].method(value) instead, to perform the operation inplace on the original object.\n",
      "\n",
      "\n",
      "  df_clean[col].fillna(df_clean[col].median(), inplace=True)\n",
      "/var/folders/8g/5r_8r4g979d_w41qn9g9mkhc0000gn/T/ipykernel_53443/2191845183.py:8: FutureWarning: A value is trying to be set on a copy of a DataFrame or Series through chained assignment using an inplace method.\n",
      "The behavior will change in pandas 3.0. This inplace method will never work because the intermediate object on which we are setting values always behaves as a copy.\n",
      "\n",
      "For example, when doing 'df[col].method(value, inplace=True)', try using 'df.method({col: value}, inplace=True)' or df[col] = df[col].method(value) instead, to perform the operation inplace on the original object.\n",
      "\n",
      "\n",
      "  df_clean[col].fillna(df_clean[col].median(), inplace=True)\n",
      "/var/folders/8g/5r_8r4g979d_w41qn9g9mkhc0000gn/T/ipykernel_53443/2191845183.py:8: FutureWarning: A value is trying to be set on a copy of a DataFrame or Series through chained assignment using an inplace method.\n",
      "The behavior will change in pandas 3.0. This inplace method will never work because the intermediate object on which we are setting values always behaves as a copy.\n",
      "\n",
      "For example, when doing 'df[col].method(value, inplace=True)', try using 'df.method({col: value}, inplace=True)' or df[col] = df[col].method(value) instead, to perform the operation inplace on the original object.\n",
      "\n",
      "\n",
      "  df_clean[col].fillna(df_clean[col].median(), inplace=True)\n",
      "/var/folders/8g/5r_8r4g979d_w41qn9g9mkhc0000gn/T/ipykernel_53443/2191845183.py:8: FutureWarning: A value is trying to be set on a copy of a DataFrame or Series through chained assignment using an inplace method.\n",
      "The behavior will change in pandas 3.0. This inplace method will never work because the intermediate object on which we are setting values always behaves as a copy.\n",
      "\n",
      "For example, when doing 'df[col].method(value, inplace=True)', try using 'df.method({col: value}, inplace=True)' or df[col] = df[col].method(value) instead, to perform the operation inplace on the original object.\n",
      "\n",
      "\n",
      "  df_clean[col].fillna(df_clean[col].median(), inplace=True)\n",
      "/var/folders/8g/5r_8r4g979d_w41qn9g9mkhc0000gn/T/ipykernel_53443/2191845183.py:8: FutureWarning: A value is trying to be set on a copy of a DataFrame or Series through chained assignment using an inplace method.\n",
      "The behavior will change in pandas 3.0. This inplace method will never work because the intermediate object on which we are setting values always behaves as a copy.\n",
      "\n",
      "For example, when doing 'df[col].method(value, inplace=True)', try using 'df.method({col: value}, inplace=True)' or df[col] = df[col].method(value) instead, to perform the operation inplace on the original object.\n",
      "\n",
      "\n",
      "  df_clean[col].fillna(df_clean[col].median(), inplace=True)\n",
      "/var/folders/8g/5r_8r4g979d_w41qn9g9mkhc0000gn/T/ipykernel_53443/2191845183.py:12: FutureWarning: A value is trying to be set on a copy of a DataFrame or Series through chained assignment using an inplace method.\n",
      "The behavior will change in pandas 3.0. This inplace method will never work because the intermediate object on which we are setting values always behaves as a copy.\n",
      "\n",
      "For example, when doing 'df[col].method(value, inplace=True)', try using 'df.method({col: value}, inplace=True)' or df[col] = df[col].method(value) instead, to perform the operation inplace on the original object.\n",
      "\n",
      "\n",
      "  df_clean[col].fillna(df_clean[col].mode()[0], inplace=True)\n",
      "/var/folders/8g/5r_8r4g979d_w41qn9g9mkhc0000gn/T/ipykernel_53443/2191845183.py:12: FutureWarning: Downcasting object dtype arrays on .fillna, .ffill, .bfill is deprecated and will change in a future version. Call result.infer_objects(copy=False) instead. To opt-in to the future behavior, set `pd.set_option('future.no_silent_downcasting', True)`\n",
      "  df_clean[col].fillna(df_clean[col].mode()[0], inplace=True)\n",
      "/var/folders/8g/5r_8r4g979d_w41qn9g9mkhc0000gn/T/ipykernel_53443/2191845183.py:17: FutureWarning: A value is trying to be set on a copy of a DataFrame or Series through chained assignment using an inplace method.\n",
      "The behavior will change in pandas 3.0. This inplace method will never work because the intermediate object on which we are setting values always behaves as a copy.\n",
      "\n",
      "For example, when doing 'df[col].method(value, inplace=True)', try using 'df.method({col: value}, inplace=True)' or df[col] = df[col].method(value) instead, to perform the operation inplace on the original object.\n",
      "\n",
      "\n",
      "  df_clean['Deck'].fillna(df_clean['Deck'].mode()[0], inplace=True)\n",
      "/var/folders/8g/5r_8r4g979d_w41qn9g9mkhc0000gn/T/ipykernel_53443/2191845183.py:18: FutureWarning: A value is trying to be set on a copy of a DataFrame or Series through chained assignment using an inplace method.\n",
      "The behavior will change in pandas 3.0. This inplace method will never work because the intermediate object on which we are setting values always behaves as a copy.\n",
      "\n",
      "For example, when doing 'df[col].method(value, inplace=True)', try using 'df.method({col: value}, inplace=True)' or df[col] = df[col].method(value) instead, to perform the operation inplace on the original object.\n",
      "\n",
      "\n",
      "  df_clean['CabinNum'].fillna(df_clean['CabinNum'].mode()[0], inplace=True)\n",
      "/var/folders/8g/5r_8r4g979d_w41qn9g9mkhc0000gn/T/ipykernel_53443/2191845183.py:19: FutureWarning: A value is trying to be set on a copy of a DataFrame or Series through chained assignment using an inplace method.\n",
      "The behavior will change in pandas 3.0. This inplace method will never work because the intermediate object on which we are setting values always behaves as a copy.\n",
      "\n",
      "For example, when doing 'df[col].method(value, inplace=True)', try using 'df.method({col: value}, inplace=True)' or df[col] = df[col].method(value) instead, to perform the operation inplace on the original object.\n",
      "\n",
      "\n",
      "  df_clean['Side'].fillna(df_clean['Side'].mode()[0], inplace=True)\n"
     ]
    }
   ],
   "source": [
    "# create copy of the dataframe for cleaning\n",
    "# fill missing values with median for numeric columns and mode for categorical columns\n",
    "df_clean= df.copy()\n",
    "\n",
    "\n",
    "numeric_cols = ['Age', 'RoomService', 'FoodCourt', 'ShoppingMall', 'Spa', 'VRDeck']\n",
    "for col in numeric_cols:\n",
    "    df_clean[col].fillna(df_clean[col].median(), inplace=True)\n",
    "\n",
    "categorical_cols = ['HomePlanet', 'CryoSleep', 'Destination', 'VIP']\n",
    "for col in categorical_cols:\n",
    "    df_clean[col].fillna(df_clean[col].mode()[0], inplace=True)\n",
    "\n",
    "# split 'Cabin' into 'Deck', 'CabinNum', and 'Side'\n",
    "\n",
    "df_clean[['Deck', 'CabinNum', 'Side']] = df_clean['Cabin'].str.split('/', expand=True)\n",
    "df_clean['Deck'].fillna(df_clean['Deck'].mode()[0], inplace=True)\n",
    "df_clean['CabinNum'].fillna(df_clean['CabinNum'].mode()[0], inplace=True)\n",
    "df_clean['Side'].fillna(df_clean['Side'].mode()[0], inplace=True)\n",
    "df_clean.drop('Cabin', axis=1, inplace=True)\n",
    "\n",
    "# encode categorical variables\n",
    "\n",
    "df_clean = pd.get_dummies(df_clean, columns=['HomePlanet', 'Destination', 'Deck', 'Side'], drop_first=True)\n",
    "\n",
    "# normalize numeric columns\n",
    "scaler = StandardScaler()\n",
    "df_clean[numeric_cols] = scaler.fit_transform(df_clean[numeric_cols])\n",
    "\n",
    "\n",
    "df_clean.drop(['Name', 'PassengerId'], axis=1, inplace=True)\n",
    "df_clean.drop_duplicates(inplace=True)\n",
    "\n",
    "print(df_clean.isnull().sum())\n",
    "print(df_clean.shape)\n",
    "print(df_clean.head())\n",
    "\n"
   ]
  }
 ],
 "metadata": {
  "kernelspec": {
   "display_name": "monenv",
   "language": "python",
   "name": "python3"
  },
  "language_info": {
   "codemirror_mode": {
    "name": "ipython",
    "version": 3
   },
   "file_extension": ".py",
   "mimetype": "text/x-python",
   "name": "python",
   "nbconvert_exporter": "python",
   "pygments_lexer": "ipython3",
   "version": "3.13.5"
  }
 },
 "nbformat": 4,
 "nbformat_minor": 5
}
